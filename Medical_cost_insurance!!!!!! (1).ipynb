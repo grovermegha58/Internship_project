{
 "cells": [
  {
   "cell_type": "code",
   "execution_count": 9,
   "id": "dd0ed66f",
   "metadata": {},
   "outputs": [],
   "source": [
    "# Import necessary libraries\n",
    "import pandas as pd\n",
    "import numpy as np\n",
    "import matplotlib.pyplot as plt\n",
    "import seaborn as sns\n",
    "from sklearn.model_selection import train_test_split\n",
    "from sklearn.preprocessing import LabelEncoder\n",
    "from sklearn.ensemble import RandomForestRegressor\n",
    "from sklearn.metrics import mean_absolute_error, mean_squared_error, r2_score\n",
    "import warnings"
   ]
  },
  {
   "cell_type": "code",
   "execution_count": 10,
   "id": "7c11daca",
   "metadata": {},
   "outputs": [],
   "source": [
    "# Load the dataset\n",
    "url = \"https://github.com/FlipRoboTechnologies/ML-Datasets/raw/main/Medical%20Cost%20Insurance/medical_cost_insurance.csv\"\n",
    "df = pd.read_csv(url)\n"
   ]
  },
  {
   "cell_type": "code",
   "execution_count": 11,
   "id": "e5aa5859",
   "metadata": {},
   "outputs": [
    {
     "name": "stdout",
     "output_type": "stream",
     "text": [
      "age         0\n",
      "sex         0\n",
      "bmi         0\n",
      "children    0\n",
      "smoker      0\n",
      "region      0\n",
      "charges     0\n",
      "dtype: int64\n"
     ]
    }
   ],
   "source": [
    "# Check for missing values\n",
    "print(df.isnull().sum())\n"
   ]
  },
  {
   "cell_type": "code",
   "execution_count": 12,
   "id": "f7fc26fa",
   "metadata": {},
   "outputs": [],
   "source": [
    "# Encode categorical variables\n",
    "le_sex = LabelEncoder()\n",
    "le_smoker = LabelEncoder()\n",
    "le_region = LabelEncoder()\n",
    "\n",
    "df['sex'] = le_sex.fit_transform(df['sex'])\n",
    "df['smoker'] = le_smoker.fit_transform(df['smoker'])\n",
    "df['region'] = le_region.fit_transform(df['region'])\n"
   ]
  },
  {
   "cell_type": "code",
   "execution_count": 13,
   "id": "92875158",
   "metadata": {},
   "outputs": [],
   "source": [
    "\n",
    "# Split data into features and target variable\n",
    "X = df.drop(columns=['charges'])\n",
    "y = df['charges']\n",
    "\n",
    "# Split data into training and testing sets\n",
    "X_train, X_test, y_train, y_test = train_test_split(X, y, test_size=0.2, random_state=42)\n",
    "\n"
   ]
  },
  {
   "cell_type": "code",
   "execution_count": 14,
   "id": "3f22f044",
   "metadata": {},
   "outputs": [
    {
     "name": "stdout",
     "output_type": "stream",
     "text": [
      "Mean Absolute Error: 2533.674643617756\n",
      "Mean Squared Error: 21073365.415079337\n",
      "Root Mean Squared Error: 4590.5735387944\n",
      "R^2 Score: 0.8642606273649586\n"
     ]
    }
   ],
   "source": [
    "# Model training\n",
    "model = RandomForestRegressor(random_state=42)\n",
    "model.fit(X_train, y_train)\n",
    "\n",
    "# Model evaluation\n",
    "y_pred = model.predict(X_test)\n",
    "mae = mean_absolute_error(y_test, y_pred)\n",
    "mse = mean_squared_error(y_test, y_pred)\n",
    "rmse = np.sqrt(mse)\n",
    "r2 = r2_score(y_test, y_pred)\n",
    "\n",
    "print(\"Mean Absolute Error:\", mae)\n",
    "print(\"Mean Squared Error:\", mse)\n",
    "print(\"Root Mean Squared Error:\", rmse)\n",
    "print(\"R^2 Score:\", r2)\n"
   ]
  },
  {
   "cell_type": "code",
   "execution_count": 15,
   "id": "49ddc51f",
   "metadata": {},
   "outputs": [
    {
     "name": "stdout",
     "output_type": "stream",
     "text": [
      "Predicted insurance cost: 7727.2410063000025\n"
     ]
    }
   ],
   "source": [
    "\n",
    "# Prediction\n",
    "new_data = pd.DataFrame({\n",
    "    'age': [35],\n",
    "    'sex': ['male'],  # encoded value: 1 for male\n",
    "    'bmi': [25.5],\n",
    "    'children': [2],\n",
    "    'smoker': ['no'],  # encoded value: 0 for no\n",
    "    'region': ['southwest']  # encoded value: 3 for southwest\n",
    "})\n",
    "\n",
    "# Encode categorical variables in new data using the same LabelEncoders\n",
    "new_data['sex'] = le_sex.transform(new_data['sex'])\n",
    "new_data['smoker'] = le_smoker.transform(new_data['smoker'])\n",
    "new_data['region'] = le_region.transform(new_data['region'])\n",
    "\n",
    "# Make prediction\n",
    "prediction = model.predict(new_data)\n",
    "print(\"Predicted insurance cost:\", prediction[0])\n"
   ]
  },
  {
   "cell_type": "code",
   "execution_count": null,
   "id": "5172b966",
   "metadata": {},
   "outputs": [],
   "source": []
  }
 ],
 "metadata": {
  "kernelspec": {
   "display_name": "Python 3 (ipykernel)",
   "language": "python",
   "name": "python3"
  },
  "language_info": {
   "codemirror_mode": {
    "name": "ipython",
    "version": 3
   },
   "file_extension": ".py",
   "mimetype": "text/x-python",
   "name": "python",
   "nbconvert_exporter": "python",
   "pygments_lexer": "ipython3",
   "version": "3.11.5"
  }
 },
 "nbformat": 4,
 "nbformat_minor": 5
}
